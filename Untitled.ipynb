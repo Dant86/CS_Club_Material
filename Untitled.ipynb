{
 "cells": [
  {
   "cell_type": "markdown",
   "metadata": {},
   "source": [
    "# Introduction to Python Chapter 1: Baby Steps"
   ]
  },
  {
   "cell_type": "raw",
   "metadata": {},
   "source": [
    "So, I'm assuming you've already done the codeacacdemy command line course (Windows people, talk to me for help). Using the \"touch\" command in the command line, create a python file. It can have any name, but remember that python files have the extension \".py\"."
   ]
  },
  {
   "cell_type": "raw",
   "metadata": {},
   "source": [
    "Once you've created the python file, open it using whatever text editor you want (I use sublime text), and type in the following (be sure to keep the command line window open)."
   ]
  },
  {
   "cell_type": "code",
   "execution_count": null,
   "metadata": {
    "collapsed": true
   },
   "outputs": [],
   "source": [
    "print(\"Hello, world!\")"
   ]
  },
  {
   "cell_type": "raw",
   "metadata": {},
   "source": [
    "Save that file. While you're still in the command line, run the python file you just created. Python files can be ran by typing in \"python <filename>.py\" and then hitting the \"enter/return\" button."
   ]
  }
 ],
 "metadata": {
  "kernelspec": {
   "display_name": "Python 3",
   "language": "python",
   "name": "python3"
  },
  "language_info": {
   "codemirror_mode": {
    "name": "ipython",
    "version": 3
   },
   "file_extension": ".py",
   "mimetype": "text/x-python",
   "name": "python",
   "nbconvert_exporter": "python",
   "pygments_lexer": "ipython3",
   "version": "3.6.0"
  }
 },
 "nbformat": 4,
 "nbformat_minor": 2
}
